{
 "cells": [
  {
   "cell_type": "markdown",
   "metadata": {},
   "source": [
    "# Project description"
   ]
  },
  {
   "cell_type": "markdown",
   "metadata": {},
   "source": [
    "\n",
    "Beta Bank customers are leaving: little by little, chipping away every month. The bankers figured out it’s cheaper to save the existing customers rather than to attract new ones.\n",
    "\n",
    "We need to predict whether a customer will leave the bank soon. You have the data on clients’ past behavior and termination of contracts with the bank.\n",
    "Build a model with the maximum possible F1 score. F1 score should be at least 0.59. Check the F1 for the test set.\n",
    "Additionally, measure the AUC-ROC metric and compare it with the F1."
   ]
  },
  {
   "cell_type": "markdown",
   "metadata": {},
   "source": [
    "## Download and prepare the data"
   ]
  },
  {
   "cell_type": "markdown",
   "metadata": {},
   "source": [
    "**Import the libraries:**"
   ]
  },
  {
   "cell_type": "code",
   "execution_count": 22,
   "metadata": {},
   "outputs": [],
   "source": [
    "import pandas as pd\n",
    "from sklearn.tree import DecisionTreeClassifier\n",
    "from sklearn.model_selection import train_test_split\n",
    "from sklearn.metrics import f1_score\n",
    "import matplotlib.pyplot as plt\n",
    "import numpy as np \n",
    "import seaborn as sns\n",
    "from scipy import stats as st\n",
    "from joblib import dump\n",
    "from sklearn.metrics import accuracy_score \n",
    "from sklearn.ensemble import RandomForestClassifier \n",
    "from sklearn.linear_model import LogisticRegression \n",
    "from sklearn.model_selection import GridSearchCV\n",
    "from sklearn.dummy import DummyClassifier\n",
    "from sklearn.preprocessing import OrdinalEncoder \n",
    "from sklearn.metrics import confusion_matrix\n",
    "from sklearn.metrics import recall_score\n",
    "from sklearn.metrics import precision_score\n",
    "from sklearn.metrics import f1_score\n",
    "from sklearn.utils import shuffle\n",
    "from sklearn.metrics import roc_curve\n",
    "from sklearn import metrics\n",
    "from sklearn.metrics import roc_auc_score"
   ]
  },
  {
   "cell_type": "markdown",
   "metadata": {},
   "source": [
    "**Import data:**"
   ]
  },
  {
   "cell_type": "code",
   "execution_count": 23,
   "metadata": {},
   "outputs": [
    {
     "name": "stdout",
     "output_type": "stream",
     "text": [
      "<class 'pandas.core.frame.DataFrame'>\n",
      "RangeIndex: 10000 entries, 0 to 9999\n",
      "Data columns (total 14 columns):\n",
      "RowNumber          10000 non-null int64\n",
      "CustomerId         10000 non-null int64\n",
      "Surname            10000 non-null object\n",
      "CreditScore        10000 non-null int64\n",
      "Geography          10000 non-null object\n",
      "Gender             10000 non-null object\n",
      "Age                10000 non-null int64\n",
      "Tenure             9091 non-null float64\n",
      "Balance            10000 non-null float64\n",
      "NumOfProducts      10000 non-null int64\n",
      "HasCrCard          10000 non-null int64\n",
      "IsActiveMember     10000 non-null int64\n",
      "EstimatedSalary    10000 non-null float64\n",
      "Exited             10000 non-null int64\n",
      "dtypes: float64(3), int64(8), object(3)\n",
      "memory usage: 1.1+ MB\n"
     ]
    }
   ],
   "source": [
    "churn = pd.read_csv('/datasets/Churn.csv')\n",
    "churn.info()"
   ]
  },
  {
   "cell_type": "markdown",
   "metadata": {},
   "source": [
    "**Missing values:**\n",
    "\n",
    "There are missing values in one of the columns. We can fill the data with the median but it can affect the accuracy of the future model. Tenure seems to be an important metric.\n",
    "\n",
    "We are missing less than 10% of the data. We can drop them."
   ]
  },
  {
   "cell_type": "code",
   "execution_count": 24,
   "metadata": {},
   "outputs": [
    {
     "name": "stdout",
     "output_type": "stream",
     "text": [
      "<class 'pandas.core.frame.DataFrame'>\n",
      "Int64Index: 9091 entries, 0 to 9998\n",
      "Data columns (total 14 columns):\n",
      "RowNumber          9091 non-null int64\n",
      "CustomerId         9091 non-null int64\n",
      "Surname            9091 non-null object\n",
      "CreditScore        9091 non-null int64\n",
      "Geography          9091 non-null object\n",
      "Gender             9091 non-null object\n",
      "Age                9091 non-null int64\n",
      "Tenure             9091 non-null float64\n",
      "Balance            9091 non-null float64\n",
      "NumOfProducts      9091 non-null int64\n",
      "HasCrCard          9091 non-null int64\n",
      "IsActiveMember     9091 non-null int64\n",
      "EstimatedSalary    9091 non-null float64\n",
      "Exited             9091 non-null int64\n",
      "dtypes: float64(3), int64(8), object(3)\n",
      "memory usage: 1.0+ MB\n"
     ]
    }
   ],
   "source": [
    "churn=churn.dropna()\n",
    "churn.info()"
   ]
  },
  {
   "cell_type": "code",
   "execution_count": 25,
   "metadata": {},
   "outputs": [
    {
     "data": {
      "text/html": [
       "<div>\n",
       "<style scoped>\n",
       "    .dataframe tbody tr th:only-of-type {\n",
       "        vertical-align: middle;\n",
       "    }\n",
       "\n",
       "    .dataframe tbody tr th {\n",
       "        vertical-align: top;\n",
       "    }\n",
       "\n",
       "    .dataframe thead th {\n",
       "        text-align: right;\n",
       "    }\n",
       "</style>\n",
       "<table border=\"1\" class=\"dataframe\">\n",
       "  <thead>\n",
       "    <tr style=\"text-align: right;\">\n",
       "      <th></th>\n",
       "      <th>RowNumber</th>\n",
       "      <th>CustomerId</th>\n",
       "      <th>Surname</th>\n",
       "      <th>CreditScore</th>\n",
       "      <th>Geography</th>\n",
       "      <th>Gender</th>\n",
       "      <th>Age</th>\n",
       "      <th>Tenure</th>\n",
       "      <th>Balance</th>\n",
       "      <th>NumOfProducts</th>\n",
       "      <th>HasCrCard</th>\n",
       "      <th>IsActiveMember</th>\n",
       "      <th>EstimatedSalary</th>\n",
       "      <th>Exited</th>\n",
       "    </tr>\n",
       "  </thead>\n",
       "  <tbody>\n",
       "    <tr>\n",
       "      <td>0</td>\n",
       "      <td>1</td>\n",
       "      <td>15634602</td>\n",
       "      <td>Hargrave</td>\n",
       "      <td>619</td>\n",
       "      <td>France</td>\n",
       "      <td>Female</td>\n",
       "      <td>42</td>\n",
       "      <td>2.0</td>\n",
       "      <td>0.00</td>\n",
       "      <td>1</td>\n",
       "      <td>1</td>\n",
       "      <td>1</td>\n",
       "      <td>101348.88</td>\n",
       "      <td>1</td>\n",
       "    </tr>\n",
       "    <tr>\n",
       "      <td>1</td>\n",
       "      <td>2</td>\n",
       "      <td>15647311</td>\n",
       "      <td>Hill</td>\n",
       "      <td>608</td>\n",
       "      <td>Spain</td>\n",
       "      <td>Female</td>\n",
       "      <td>41</td>\n",
       "      <td>1.0</td>\n",
       "      <td>83807.86</td>\n",
       "      <td>1</td>\n",
       "      <td>0</td>\n",
       "      <td>1</td>\n",
       "      <td>112542.58</td>\n",
       "      <td>0</td>\n",
       "    </tr>\n",
       "    <tr>\n",
       "      <td>2</td>\n",
       "      <td>3</td>\n",
       "      <td>15619304</td>\n",
       "      <td>Onio</td>\n",
       "      <td>502</td>\n",
       "      <td>France</td>\n",
       "      <td>Female</td>\n",
       "      <td>42</td>\n",
       "      <td>8.0</td>\n",
       "      <td>159660.80</td>\n",
       "      <td>3</td>\n",
       "      <td>1</td>\n",
       "      <td>0</td>\n",
       "      <td>113931.57</td>\n",
       "      <td>1</td>\n",
       "    </tr>\n",
       "    <tr>\n",
       "      <td>3</td>\n",
       "      <td>4</td>\n",
       "      <td>15701354</td>\n",
       "      <td>Boni</td>\n",
       "      <td>699</td>\n",
       "      <td>France</td>\n",
       "      <td>Female</td>\n",
       "      <td>39</td>\n",
       "      <td>1.0</td>\n",
       "      <td>0.00</td>\n",
       "      <td>2</td>\n",
       "      <td>0</td>\n",
       "      <td>0</td>\n",
       "      <td>93826.63</td>\n",
       "      <td>0</td>\n",
       "    </tr>\n",
       "    <tr>\n",
       "      <td>4</td>\n",
       "      <td>5</td>\n",
       "      <td>15737888</td>\n",
       "      <td>Mitchell</td>\n",
       "      <td>850</td>\n",
       "      <td>Spain</td>\n",
       "      <td>Female</td>\n",
       "      <td>43</td>\n",
       "      <td>2.0</td>\n",
       "      <td>125510.82</td>\n",
       "      <td>1</td>\n",
       "      <td>1</td>\n",
       "      <td>1</td>\n",
       "      <td>79084.10</td>\n",
       "      <td>0</td>\n",
       "    </tr>\n",
       "    <tr>\n",
       "      <td>5</td>\n",
       "      <td>6</td>\n",
       "      <td>15574012</td>\n",
       "      <td>Chu</td>\n",
       "      <td>645</td>\n",
       "      <td>Spain</td>\n",
       "      <td>Male</td>\n",
       "      <td>44</td>\n",
       "      <td>8.0</td>\n",
       "      <td>113755.78</td>\n",
       "      <td>2</td>\n",
       "      <td>1</td>\n",
       "      <td>0</td>\n",
       "      <td>149756.71</td>\n",
       "      <td>1</td>\n",
       "    </tr>\n",
       "    <tr>\n",
       "      <td>6</td>\n",
       "      <td>7</td>\n",
       "      <td>15592531</td>\n",
       "      <td>Bartlett</td>\n",
       "      <td>822</td>\n",
       "      <td>France</td>\n",
       "      <td>Male</td>\n",
       "      <td>50</td>\n",
       "      <td>7.0</td>\n",
       "      <td>0.00</td>\n",
       "      <td>2</td>\n",
       "      <td>1</td>\n",
       "      <td>1</td>\n",
       "      <td>10062.80</td>\n",
       "      <td>0</td>\n",
       "    </tr>\n",
       "    <tr>\n",
       "      <td>7</td>\n",
       "      <td>8</td>\n",
       "      <td>15656148</td>\n",
       "      <td>Obinna</td>\n",
       "      <td>376</td>\n",
       "      <td>Germany</td>\n",
       "      <td>Female</td>\n",
       "      <td>29</td>\n",
       "      <td>4.0</td>\n",
       "      <td>115046.74</td>\n",
       "      <td>4</td>\n",
       "      <td>1</td>\n",
       "      <td>0</td>\n",
       "      <td>119346.88</td>\n",
       "      <td>1</td>\n",
       "    </tr>\n",
       "    <tr>\n",
       "      <td>8</td>\n",
       "      <td>9</td>\n",
       "      <td>15792365</td>\n",
       "      <td>He</td>\n",
       "      <td>501</td>\n",
       "      <td>France</td>\n",
       "      <td>Male</td>\n",
       "      <td>44</td>\n",
       "      <td>4.0</td>\n",
       "      <td>142051.07</td>\n",
       "      <td>2</td>\n",
       "      <td>0</td>\n",
       "      <td>1</td>\n",
       "      <td>74940.50</td>\n",
       "      <td>0</td>\n",
       "    </tr>\n",
       "    <tr>\n",
       "      <td>9</td>\n",
       "      <td>10</td>\n",
       "      <td>15592389</td>\n",
       "      <td>H?</td>\n",
       "      <td>684</td>\n",
       "      <td>France</td>\n",
       "      <td>Male</td>\n",
       "      <td>27</td>\n",
       "      <td>2.0</td>\n",
       "      <td>134603.88</td>\n",
       "      <td>1</td>\n",
       "      <td>1</td>\n",
       "      <td>1</td>\n",
       "      <td>71725.73</td>\n",
       "      <td>0</td>\n",
       "    </tr>\n",
       "    <tr>\n",
       "      <td>10</td>\n",
       "      <td>11</td>\n",
       "      <td>15767821</td>\n",
       "      <td>Bearce</td>\n",
       "      <td>528</td>\n",
       "      <td>France</td>\n",
       "      <td>Male</td>\n",
       "      <td>31</td>\n",
       "      <td>6.0</td>\n",
       "      <td>102016.72</td>\n",
       "      <td>2</td>\n",
       "      <td>0</td>\n",
       "      <td>0</td>\n",
       "      <td>80181.12</td>\n",
       "      <td>0</td>\n",
       "    </tr>\n",
       "    <tr>\n",
       "      <td>11</td>\n",
       "      <td>12</td>\n",
       "      <td>15737173</td>\n",
       "      <td>Andrews</td>\n",
       "      <td>497</td>\n",
       "      <td>Spain</td>\n",
       "      <td>Male</td>\n",
       "      <td>24</td>\n",
       "      <td>3.0</td>\n",
       "      <td>0.00</td>\n",
       "      <td>2</td>\n",
       "      <td>1</td>\n",
       "      <td>0</td>\n",
       "      <td>76390.01</td>\n",
       "      <td>0</td>\n",
       "    </tr>\n",
       "    <tr>\n",
       "      <td>12</td>\n",
       "      <td>13</td>\n",
       "      <td>15632264</td>\n",
       "      <td>Kay</td>\n",
       "      <td>476</td>\n",
       "      <td>France</td>\n",
       "      <td>Female</td>\n",
       "      <td>34</td>\n",
       "      <td>10.0</td>\n",
       "      <td>0.00</td>\n",
       "      <td>2</td>\n",
       "      <td>1</td>\n",
       "      <td>0</td>\n",
       "      <td>26260.98</td>\n",
       "      <td>0</td>\n",
       "    </tr>\n",
       "    <tr>\n",
       "      <td>13</td>\n",
       "      <td>14</td>\n",
       "      <td>15691483</td>\n",
       "      <td>Chin</td>\n",
       "      <td>549</td>\n",
       "      <td>France</td>\n",
       "      <td>Female</td>\n",
       "      <td>25</td>\n",
       "      <td>5.0</td>\n",
       "      <td>0.00</td>\n",
       "      <td>2</td>\n",
       "      <td>0</td>\n",
       "      <td>0</td>\n",
       "      <td>190857.79</td>\n",
       "      <td>0</td>\n",
       "    </tr>\n",
       "    <tr>\n",
       "      <td>14</td>\n",
       "      <td>15</td>\n",
       "      <td>15600882</td>\n",
       "      <td>Scott</td>\n",
       "      <td>635</td>\n",
       "      <td>Spain</td>\n",
       "      <td>Female</td>\n",
       "      <td>35</td>\n",
       "      <td>7.0</td>\n",
       "      <td>0.00</td>\n",
       "      <td>2</td>\n",
       "      <td>1</td>\n",
       "      <td>1</td>\n",
       "      <td>65951.65</td>\n",
       "      <td>0</td>\n",
       "    </tr>\n",
       "  </tbody>\n",
       "</table>\n",
       "</div>"
      ],
      "text/plain": [
       "    RowNumber  CustomerId   Surname  CreditScore Geography  Gender  Age  \\\n",
       "0           1    15634602  Hargrave          619    France  Female   42   \n",
       "1           2    15647311      Hill          608     Spain  Female   41   \n",
       "2           3    15619304      Onio          502    France  Female   42   \n",
       "3           4    15701354      Boni          699    France  Female   39   \n",
       "4           5    15737888  Mitchell          850     Spain  Female   43   \n",
       "5           6    15574012       Chu          645     Spain    Male   44   \n",
       "6           7    15592531  Bartlett          822    France    Male   50   \n",
       "7           8    15656148    Obinna          376   Germany  Female   29   \n",
       "8           9    15792365        He          501    France    Male   44   \n",
       "9          10    15592389        H?          684    France    Male   27   \n",
       "10         11    15767821    Bearce          528    France    Male   31   \n",
       "11         12    15737173   Andrews          497     Spain    Male   24   \n",
       "12         13    15632264       Kay          476    France  Female   34   \n",
       "13         14    15691483      Chin          549    France  Female   25   \n",
       "14         15    15600882     Scott          635     Spain  Female   35   \n",
       "\n",
       "    Tenure    Balance  NumOfProducts  HasCrCard  IsActiveMember  \\\n",
       "0      2.0       0.00              1          1               1   \n",
       "1      1.0   83807.86              1          0               1   \n",
       "2      8.0  159660.80              3          1               0   \n",
       "3      1.0       0.00              2          0               0   \n",
       "4      2.0  125510.82              1          1               1   \n",
       "5      8.0  113755.78              2          1               0   \n",
       "6      7.0       0.00              2          1               1   \n",
       "7      4.0  115046.74              4          1               0   \n",
       "8      4.0  142051.07              2          0               1   \n",
       "9      2.0  134603.88              1          1               1   \n",
       "10     6.0  102016.72              2          0               0   \n",
       "11     3.0       0.00              2          1               0   \n",
       "12    10.0       0.00              2          1               0   \n",
       "13     5.0       0.00              2          0               0   \n",
       "14     7.0       0.00              2          1               1   \n",
       "\n",
       "    EstimatedSalary  Exited  \n",
       "0         101348.88       1  \n",
       "1         112542.58       0  \n",
       "2         113931.57       1  \n",
       "3          93826.63       0  \n",
       "4          79084.10       0  \n",
       "5         149756.71       1  \n",
       "6          10062.80       0  \n",
       "7         119346.88       1  \n",
       "8          74940.50       0  \n",
       "9          71725.73       0  \n",
       "10         80181.12       0  \n",
       "11         76390.01       0  \n",
       "12         26260.98       0  \n",
       "13        190857.79       0  \n",
       "14         65951.65       0  "
      ]
     },
     "execution_count": 25,
     "metadata": {},
     "output_type": "execute_result"
    }
   ],
   "source": [
    "churn.head(15)"
   ]
  },
  {
   "cell_type": "markdown",
   "metadata": {},
   "source": [
    "**Preprocessing column names:**"
   ]
  },
  {
   "cell_type": "code",
   "execution_count": 26,
   "metadata": {},
   "outputs": [
    {
     "data": {
      "text/plain": [
       "Index(['rownumber', 'customerid', 'surname', 'creditscore', 'geography',\n",
       "       'gender', 'age', 'tenure', 'balance', 'numofproducts', 'hascrcard',\n",
       "       'isactivemember', 'estimatedsalary', 'exited'],\n",
       "      dtype='object')"
      ]
     },
     "execution_count": 26,
     "metadata": {},
     "output_type": "execute_result"
    }
   ],
   "source": [
    "churn.columns= churn.columns.str.lower()\n",
    "churn.columns"
   ]
  },
  {
   "cell_type": "markdown",
   "metadata": {},
   "source": [
    "**Preparing data for the model training:**"
   ]
  },
  {
   "cell_type": "markdown",
   "metadata": {},
   "source": [
    "We have three columns with categorical data.\n",
    "1. We can drop the surname column, it shpuldn't be used for model training.\n",
    "2. We can use OHE for gender column.\n",
    "3. We probably will use tree-based models so we will use Label Encoding for the Geography column."
   ]
  },
  {
   "cell_type": "markdown",
   "metadata": {},
   "source": [
    "Columns like \"rownumber\" and \"customerid\" can confuse our model. So we will drop them as well."
   ]
  },
  {
   "cell_type": "code",
   "execution_count": 27,
   "metadata": {},
   "outputs": [
    {
     "data": {
      "text/plain": [
       "array(['France', 'Spain', 'Germany'], dtype=object)"
      ]
     },
     "execution_count": 27,
     "metadata": {},
     "output_type": "execute_result"
    }
   ],
   "source": [
    "churn['geography'].unique()"
   ]
  },
  {
   "cell_type": "code",
   "execution_count": 28,
   "metadata": {},
   "outputs": [],
   "source": [
    "data=churn.drop(['surname','rownumber','customerid'], axis=1)\n"
   ]
  },
  {
   "cell_type": "code",
   "execution_count": 29,
   "metadata": {},
   "outputs": [
    {
     "data": {
      "text/html": [
       "<div>\n",
       "<style scoped>\n",
       "    .dataframe tbody tr th:only-of-type {\n",
       "        vertical-align: middle;\n",
       "    }\n",
       "\n",
       "    .dataframe tbody tr th {\n",
       "        vertical-align: top;\n",
       "    }\n",
       "\n",
       "    .dataframe thead th {\n",
       "        text-align: right;\n",
       "    }\n",
       "</style>\n",
       "<table border=\"1\" class=\"dataframe\">\n",
       "  <thead>\n",
       "    <tr style=\"text-align: right;\">\n",
       "      <th></th>\n",
       "      <th>creditscore</th>\n",
       "      <th>geography</th>\n",
       "      <th>gender</th>\n",
       "      <th>age</th>\n",
       "      <th>tenure</th>\n",
       "      <th>balance</th>\n",
       "      <th>numofproducts</th>\n",
       "      <th>hascrcard</th>\n",
       "      <th>isactivemember</th>\n",
       "      <th>estimatedsalary</th>\n",
       "      <th>exited</th>\n",
       "    </tr>\n",
       "  </thead>\n",
       "  <tbody>\n",
       "    <tr>\n",
       "      <td>0</td>\n",
       "      <td>619</td>\n",
       "      <td>France</td>\n",
       "      <td>0</td>\n",
       "      <td>42</td>\n",
       "      <td>2.0</td>\n",
       "      <td>0.00</td>\n",
       "      <td>1</td>\n",
       "      <td>1</td>\n",
       "      <td>1</td>\n",
       "      <td>101348.88</td>\n",
       "      <td>1</td>\n",
       "    </tr>\n",
       "    <tr>\n",
       "      <td>1</td>\n",
       "      <td>608</td>\n",
       "      <td>Spain</td>\n",
       "      <td>0</td>\n",
       "      <td>41</td>\n",
       "      <td>1.0</td>\n",
       "      <td>83807.86</td>\n",
       "      <td>1</td>\n",
       "      <td>0</td>\n",
       "      <td>1</td>\n",
       "      <td>112542.58</td>\n",
       "      <td>0</td>\n",
       "    </tr>\n",
       "    <tr>\n",
       "      <td>2</td>\n",
       "      <td>502</td>\n",
       "      <td>France</td>\n",
       "      <td>0</td>\n",
       "      <td>42</td>\n",
       "      <td>8.0</td>\n",
       "      <td>159660.80</td>\n",
       "      <td>3</td>\n",
       "      <td>1</td>\n",
       "      <td>0</td>\n",
       "      <td>113931.57</td>\n",
       "      <td>1</td>\n",
       "    </tr>\n",
       "    <tr>\n",
       "      <td>3</td>\n",
       "      <td>699</td>\n",
       "      <td>France</td>\n",
       "      <td>0</td>\n",
       "      <td>39</td>\n",
       "      <td>1.0</td>\n",
       "      <td>0.00</td>\n",
       "      <td>2</td>\n",
       "      <td>0</td>\n",
       "      <td>0</td>\n",
       "      <td>93826.63</td>\n",
       "      <td>0</td>\n",
       "    </tr>\n",
       "    <tr>\n",
       "      <td>4</td>\n",
       "      <td>850</td>\n",
       "      <td>Spain</td>\n",
       "      <td>0</td>\n",
       "      <td>43</td>\n",
       "      <td>2.0</td>\n",
       "      <td>125510.82</td>\n",
       "      <td>1</td>\n",
       "      <td>1</td>\n",
       "      <td>1</td>\n",
       "      <td>79084.10</td>\n",
       "      <td>0</td>\n",
       "    </tr>\n",
       "  </tbody>\n",
       "</table>\n",
       "</div>"
      ],
      "text/plain": [
       "   creditscore geography  gender  age  tenure    balance  numofproducts  \\\n",
       "0          619    France       0   42     2.0       0.00              1   \n",
       "1          608     Spain       0   41     1.0   83807.86              1   \n",
       "2          502    France       0   42     8.0  159660.80              3   \n",
       "3          699    France       0   39     1.0       0.00              2   \n",
       "4          850     Spain       0   43     2.0  125510.82              1   \n",
       "\n",
       "   hascrcard  isactivemember  estimatedsalary  exited  \n",
       "0          1               1        101348.88       1  \n",
       "1          0               1        112542.58       0  \n",
       "2          1               0        113931.57       1  \n",
       "3          0               0         93826.63       0  \n",
       "4          1               1         79084.10       0  "
      ]
     },
     "execution_count": 29,
     "metadata": {},
     "output_type": "execute_result"
    }
   ],
   "source": [
    "data['gender'] = pd.get_dummies(data['gender'], drop_first=True)\n",
    "data.head(5)"
   ]
  },
  {
   "cell_type": "code",
   "execution_count": 30,
   "metadata": {},
   "outputs": [
    {
     "data": {
      "text/html": [
       "<div>\n",
       "<style scoped>\n",
       "    .dataframe tbody tr th:only-of-type {\n",
       "        vertical-align: middle;\n",
       "    }\n",
       "\n",
       "    .dataframe tbody tr th {\n",
       "        vertical-align: top;\n",
       "    }\n",
       "\n",
       "    .dataframe thead th {\n",
       "        text-align: right;\n",
       "    }\n",
       "</style>\n",
       "<table border=\"1\" class=\"dataframe\">\n",
       "  <thead>\n",
       "    <tr style=\"text-align: right;\">\n",
       "      <th></th>\n",
       "      <th>creditscore</th>\n",
       "      <th>geography</th>\n",
       "      <th>gender</th>\n",
       "      <th>age</th>\n",
       "      <th>tenure</th>\n",
       "      <th>balance</th>\n",
       "      <th>numofproducts</th>\n",
       "      <th>hascrcard</th>\n",
       "      <th>isactivemember</th>\n",
       "      <th>estimatedsalary</th>\n",
       "      <th>exited</th>\n",
       "    </tr>\n",
       "  </thead>\n",
       "  <tbody>\n",
       "    <tr>\n",
       "      <td>0</td>\n",
       "      <td>619</td>\n",
       "      <td>0.0</td>\n",
       "      <td>0</td>\n",
       "      <td>42</td>\n",
       "      <td>2.0</td>\n",
       "      <td>0.00</td>\n",
       "      <td>1</td>\n",
       "      <td>1</td>\n",
       "      <td>1</td>\n",
       "      <td>101348.88</td>\n",
       "      <td>1</td>\n",
       "    </tr>\n",
       "    <tr>\n",
       "      <td>1</td>\n",
       "      <td>608</td>\n",
       "      <td>2.0</td>\n",
       "      <td>0</td>\n",
       "      <td>41</td>\n",
       "      <td>1.0</td>\n",
       "      <td>83807.86</td>\n",
       "      <td>1</td>\n",
       "      <td>0</td>\n",
       "      <td>1</td>\n",
       "      <td>112542.58</td>\n",
       "      <td>0</td>\n",
       "    </tr>\n",
       "    <tr>\n",
       "      <td>2</td>\n",
       "      <td>502</td>\n",
       "      <td>0.0</td>\n",
       "      <td>0</td>\n",
       "      <td>42</td>\n",
       "      <td>8.0</td>\n",
       "      <td>159660.80</td>\n",
       "      <td>3</td>\n",
       "      <td>1</td>\n",
       "      <td>0</td>\n",
       "      <td>113931.57</td>\n",
       "      <td>1</td>\n",
       "    </tr>\n",
       "    <tr>\n",
       "      <td>3</td>\n",
       "      <td>699</td>\n",
       "      <td>0.0</td>\n",
       "      <td>0</td>\n",
       "      <td>39</td>\n",
       "      <td>1.0</td>\n",
       "      <td>0.00</td>\n",
       "      <td>2</td>\n",
       "      <td>0</td>\n",
       "      <td>0</td>\n",
       "      <td>93826.63</td>\n",
       "      <td>0</td>\n",
       "    </tr>\n",
       "    <tr>\n",
       "      <td>4</td>\n",
       "      <td>850</td>\n",
       "      <td>2.0</td>\n",
       "      <td>0</td>\n",
       "      <td>43</td>\n",
       "      <td>2.0</td>\n",
       "      <td>125510.82</td>\n",
       "      <td>1</td>\n",
       "      <td>1</td>\n",
       "      <td>1</td>\n",
       "      <td>79084.10</td>\n",
       "      <td>0</td>\n",
       "    </tr>\n",
       "  </tbody>\n",
       "</table>\n",
       "</div>"
      ],
      "text/plain": [
       "   creditscore  geography  gender  age  tenure    balance  numofproducts  \\\n",
       "0          619        0.0       0   42     2.0       0.00              1   \n",
       "1          608        2.0       0   41     1.0   83807.86              1   \n",
       "2          502        0.0       0   42     8.0  159660.80              3   \n",
       "3          699        0.0       0   39     1.0       0.00              2   \n",
       "4          850        2.0       0   43     2.0  125510.82              1   \n",
       "\n",
       "   hascrcard  isactivemember  estimatedsalary  exited  \n",
       "0          1               1        101348.88       1  \n",
       "1          0               1        112542.58       0  \n",
       "2          1               0        113931.57       1  \n",
       "3          0               0         93826.63       0  \n",
       "4          1               1         79084.10       0  "
      ]
     },
     "execution_count": 30,
     "metadata": {},
     "output_type": "execute_result"
    }
   ],
   "source": [
    "encoder = OrdinalEncoder() \n",
    "data[[\"geography\"]] = encoder.fit_transform(data[[\"geography\"]])\n",
    "data.head(5)"
   ]
  },
  {
   "cell_type": "markdown",
   "metadata": {},
   "source": [
    "**Splitting the data into train, validation and test sets in ratio 60/20/20:**"
   ]
  },
  {
   "cell_type": "code",
   "execution_count": 31,
   "metadata": {},
   "outputs": [
    {
     "name": "stdout",
     "output_type": "stream",
     "text": [
      "(7272, 10)\n",
      "(7272,)\n",
      "(5454, 10)\n",
      "(5454,)\n",
      "(1818, 10)\n",
      "(1818,)\n",
      "(1819, 10)\n",
      "(1819,)\n"
     ]
    },
    {
     "data": {
      "text/plain": [
       "(None, None)"
      ]
     },
     "execution_count": 31,
     "metadata": {},
     "output_type": "execute_result"
    }
   ],
   "source": [
    "x = data.drop(columns = ['exited']).copy()\n",
    "y = data['exited']\n",
    "\n",
    "x_train2, x_test, y_train2, y_test = train_test_split(x,y, train_size=0.8,random_state=12345)\n",
    "\n",
    "x_train, x_valid, y_train, y_valid = train_test_split(x_train2,y_train2, test_size=0.25,random_state=12345)\n",
    "\n",
    "print(x_train2.shape), print(y_train2.shape)\n",
    "print(x_train.shape), print(y_train.shape)\n",
    "print(x_valid.shape), print(y_valid.shape)\n",
    "print(x_test.shape), print(y_test.shape)"
   ]
  },
  {
   "cell_type": "markdown",
   "metadata": {},
   "source": [
    "## Examine the balance of classes"
   ]
  },
  {
   "cell_type": "markdown",
   "metadata": {},
   "source": [
    "### Train the model without taking into account the imbalance"
   ]
  },
  {
   "cell_type": "code",
   "execution_count": 32,
   "metadata": {},
   "outputs": [],
   "source": [
    "best_params = []\n",
    "best_accuracy = 0\n",
    "for n_estimators in range(1,100):\n",
    "    for max_depth in range(2,12):\n",
    "        model_rf_clf = RandomForestClassifier(random_state=12345,\n",
    "                                                          n_estimators=n_estimators,\n",
    "                                                          max_depth=max_depth)\n",
    "        model_rf_clf.fit(x_train, y_train)\n",
    "        predictions = model_rf_clf.predict(x_valid)\n",
    "        accuracy = accuracy_score(y_valid, predictions)\n",
    "        if accuracy > best_accuracy:\n",
    "            best_params = [n_estimators, max_depth]\n",
    "            best_accuracy = accuracy"
   ]
  },
  {
   "cell_type": "code",
   "execution_count": 33,
   "metadata": {},
   "outputs": [
    {
     "name": "stdout",
     "output_type": "stream",
     "text": [
      "Accuracy: 0.8597359735973598\n",
      "Best_parameters: [29, 11]\n"
     ]
    }
   ],
   "source": [
    "print('Accuracy:', best_accuracy)\n",
    "print('Best_parameters:',best_params)"
   ]
  },
  {
   "cell_type": "code",
   "execution_count": 34,
   "metadata": {},
   "outputs": [],
   "source": [
    "model = RandomForestClassifier(random_state=12345,n_estimators=29,max_depth=11)\n",
    "model.fit(x_train, y_train)\n",
    "predicted_valid = model.predict(x_valid)"
   ]
  },
  {
   "cell_type": "markdown",
   "metadata": {},
   "source": [
    "### Confusion matrix"
   ]
  },
  {
   "cell_type": "code",
   "execution_count": 35,
   "metadata": {},
   "outputs": [
    {
     "name": "stdout",
     "output_type": "stream",
     "text": [
      "[[1410   42]\n",
      " [ 213  153]]\n"
     ]
    }
   ],
   "source": [
    "print(confusion_matrix(y_valid, predicted_valid))"
   ]
  },
  {
   "cell_type": "markdown",
   "metadata": {},
   "source": [
    "True negative answers: 1410\n",
    "\n",
    "True positive answers: 153\n",
    "\n",
    "False negative answers: 213\n",
    "\n",
    "False positive answers: 42\n",
    "\n",
    "**The model sees more negative answers than it should.**"
   ]
  },
  {
   "cell_type": "markdown",
   "metadata": {},
   "source": [
    "### Recall, precision, F1 score"
   ]
  },
  {
   "cell_type": "code",
   "execution_count": 36,
   "metadata": {},
   "outputs": [
    {
     "name": "stdout",
     "output_type": "stream",
     "text": [
      "Recall: 0.4180327868852459\n"
     ]
    }
   ],
   "source": [
    "print('Recall:',recall_score(y_valid, predicted_valid))"
   ]
  },
  {
   "cell_type": "markdown",
   "metadata": {},
   "source": [
    "**Model isn't good at identifying true positives.**"
   ]
  },
  {
   "cell_type": "code",
   "execution_count": 37,
   "metadata": {},
   "outputs": [
    {
     "name": "stdout",
     "output_type": "stream",
     "text": [
      "Precision: 0.7846153846153846\n"
     ]
    }
   ],
   "source": [
    "print('Precision:',precision_score(y_valid, predicted_valid))"
   ]
  },
  {
   "cell_type": "markdown",
   "metadata": {},
   "source": [
    "**On the other hand, about 80% of the results model gave us can be considered relevant.**"
   ]
  },
  {
   "cell_type": "code",
   "execution_count": 38,
   "metadata": {},
   "outputs": [
    {
     "name": "stdout",
     "output_type": "stream",
     "text": [
      "F1: 0.5454545454545455\n"
     ]
    }
   ],
   "source": [
    "print('F1:',f1_score(y_valid, predicted_valid))"
   ]
  },
  {
   "cell_type": "markdown",
   "metadata": {},
   "source": [
    "The goal for F1 score is 0.59.\n",
    "\n",
    "**The model isn't good enough. It gives too many false negative answers.**"
   ]
  },
  {
   "cell_type": "code",
   "execution_count": 39,
   "metadata": {},
   "outputs": [
    {
     "data": {
      "image/png": "[encoded data removed]",
      "text/plain": [
       "<Figure size 432x288 with 1 Axes>"
      ]
     },
     "metadata": {
      "needs_background": "light"
     },
     "output_type": "display_data"
    }
   ],
   "source": [
    "probabilities_valid = model.predict_proba(x_valid)\n",
    "probabilities_one_valid = probabilities_valid[:, 1]\n",
    "\n",
    "fpr, tpr, thresholds = roc_curve(y_valid, probabilities_one_valid) \n",
    "# < write code here >\n",
    "\n",
    "plt.figure()\n",
    "\n",
    "# < plot the graph >\n",
    "plt.plot(fpr, tpr)\n",
    "\n",
    "# ROC curve for random model (looks like a straight line)\n",
    "plt.plot([0, 1], [0, 1], linestyle='--')\n",
    "\n",
    "# < use the functions plt.xlim() and plt.ylim() to\n",
    "#   set the boundary for the axes from 0 to 1 >\n",
    "plt.xlim([0.0, 1.0])\n",
    "plt.ylim([0.0, 1.0])\n",
    "# < use the functions plt.xlabel() and plt.ylabel() to\n",
    "#   name the axes \"False Positive Rate\" and \"True Positive Rate\" >\n",
    "plt.xlabel('False Positive Rate')\n",
    "plt.ylabel('True Positive Rate')\n",
    "plt.title('ROC curve')\n",
    "# < add the heading \"ROC curve\" with the function plt.title() >\n",
    "\n",
    "plt.show()"
   ]
  },
  {
   "cell_type": "code",
   "execution_count": 41,
   "metadata": {},
   "outputs": [
    {
     "name": "stdout",
     "output_type": "stream",
     "text": [
      "0.8348321139863614\n"
     ]
    }
   ],
   "source": [
    "auc_roc=roc_auc_score(y_valid, probabilities_one_valid)\n",
    "print(auc_roc)"
   ]
  },
  {
   "cell_type": "markdown",
   "metadata": {},
   "source": [
    "## Improve the quality of the model"
   ]
  },
  {
   "cell_type": "markdown",
   "metadata": {},
   "source": [
    "### Class Weight Adjustment"
   ]
  },
  {
   "cell_type": "code",
   "execution_count": 32,
   "metadata": {},
   "outputs": [
    {
     "name": "stdout",
     "output_type": "stream",
     "text": [
      "F1: 0.5676470588235294\n"
     ]
    }
   ],
   "source": [
    "model_1 = RandomForestClassifier(random_state=12345,n_estimators=29,max_depth=11,class_weight='balanced')\n",
    "model_1.fit(x_train, y_train)\n",
    "predicted_valid = model_1.predict(x_valid)\n",
    "print('F1:',f1_score(y_valid, predicted_valid))"
   ]
  },
  {
   "cell_type": "markdown",
   "metadata": {},
   "source": [
    "### Upsampling"
   ]
  },
  {
   "cell_type": "code",
   "execution_count": 20,
   "metadata": {},
   "outputs": [
    {
     "name": "stdout",
     "output_type": "stream",
     "text": [
      "(4335, 10)\n",
      "(4335,)\n",
      "(1119, 10)\n",
      "(1119,)\n",
      "3.8739946380697052\n"
     ]
    }
   ],
   "source": [
    "features_zeros = x_train[y_train == 0]\n",
    "features_ones = x_train[y_train == 1]\n",
    "target_zeros = y_train[y_train == 0]\n",
    "target_ones = y_train[y_train == 1]\n",
    "\n",
    "print(features_zeros.shape), print(target_zeros.shape)\n",
    "print(features_ones.shape), print(target_ones.shape)\n",
    "print(len(target_zeros)/len(target_ones))"
   ]
  },
  {
   "cell_type": "code",
   "execution_count": 19,
   "metadata": {},
   "outputs": [
    {
     "name": "stdout",
     "output_type": "stream",
     "text": [
      "F1: 0.5814863102998696\n"
     ]
    }
   ],
   "source": [
    "def upsample(features, target, repeat):\n",
    "    features_zeros = features[target == 0]\n",
    "    features_ones = features[target == 1]\n",
    "    target_zeros = target[target == 0]\n",
    "    target_ones = target[target == 1]\n",
    "\n",
    "    features_upsampled = pd.concat([features_zeros] + [features_ones] * repeat)\n",
    "    target_upsampled = pd.concat([target_zeros] + [target_ones] * repeat)\n",
    "\n",
    "    features_upsampled, target_upsampled = shuffle(\n",
    "        features_upsampled, target_upsampled, random_state=12345\n",
    "    )\n",
    "\n",
    "    return features_upsampled, target_upsampled\n",
    "\n",
    "\n",
    "features_upsampled, target_upsampled = upsample(\n",
    "    x_train, y_train, 4\n",
    ")\n",
    "\n",
    "\n",
    "model_2=RandomForestClassifier(random_state=12345,n_estimators=29,max_depth=11)\n",
    "#,class_weight='balanced')\n",
    "model_2.fit(features_upsampled, target_upsampled)\n",
    "predicted_valid=model_2.predict(x_valid)\n",
    "print('F1:', f1_score(y_valid, predicted_valid))\n"
   ]
  },
  {
   "cell_type": "markdown",
   "metadata": {},
   "source": [
    "### Combining upsampling and downsampling"
   ]
  },
  {
   "cell_type": "code",
   "execution_count": 42,
   "metadata": {},
   "outputs": [],
   "source": [
    "def resample(features, target, repeat,fraction):\n",
    "    features_zeros = features[target == 0]\n",
    "    features_ones = features[target == 1]\n",
    "    target_zeros = target[target == 0]\n",
    "    target_ones = target[target == 1]\n",
    "\n",
    "    features_resampled = pd.concat([features_zeros.sample(frac=fraction, random_state=12345)] + [features_ones] * repeat)\n",
    "    target_resampled = pd.concat([target_zeros.sample(frac=fraction, random_state=12345)] + [target_ones] * repeat)\n",
    "\n",
    "    features_resampled, target_resampled = shuffle(\n",
    "        features_resampled, target_resampled, random_state=12345\n",
    "    )\n",
    "\n",
    "    return features_resampled, target_resampled\n"
   ]
  },
  {
   "cell_type": "code",
   "execution_count": 43,
   "metadata": {},
   "outputs": [],
   "source": [
    "best_params = []\n",
    "best_f1 = 0\n",
    "\n",
    "for i in range(1,15):\n",
    "    for k in np.arange(0.1,1,0.1):\n",
    "        features_resampled, target_resampled = resample(x_train, y_train,i,k)\n",
    "        model_3=RandomForestClassifier(random_state=12345,n_estimators=29,max_depth=11,class_weight='balanced')\n",
    "        model_3.fit(features_resampled, target_resampled)\n",
    "        predicted_valid=model_3.predict(x_valid)\n",
    "        f1=f1_score(y_valid, predicted_valid)\n",
    "        #print('F1:', f1_score(y_valid, predicted_valid),i,k)\n",
    "        \n",
    "        if f1 > best_f1:\n",
    "            best_params = [i, k]\n",
    "            best_f1 = f1"
   ]
  },
  {
   "cell_type": "code",
   "execution_count": 44,
   "metadata": {},
   "outputs": [
    {
     "data": {
      "text/plain": [
       "[2, 0.6]"
      ]
     },
     "execution_count": 44,
     "metadata": {},
     "output_type": "execute_result"
    }
   ],
   "source": [
    "best_params"
   ]
  },
  {
   "cell_type": "code",
   "execution_count": 45,
   "metadata": {},
   "outputs": [
    {
     "name": "stdout",
     "output_type": "stream",
     "text": [
      "F1: 0.5990220048899756\n"
     ]
    }
   ],
   "source": [
    "print('F1:', best_f1)"
   ]
  },
  {
   "cell_type": "code",
   "execution_count": 46,
   "metadata": {},
   "outputs": [
    {
     "name": "stdout",
     "output_type": "stream",
     "text": [
      "F1: 0.5990220048899756\n",
      "Accuracy: 0.8195819581958196\n"
     ]
    }
   ],
   "source": [
    "features_resampled, target_resampled = resample(x_train, y_train,2,0.6)\n",
    "model_3=RandomForestClassifier(random_state=12345,n_estimators=29,max_depth=11,class_weight='balanced')\n",
    "model_3.fit(features_resampled, target_resampled)\n",
    "predicted_valid=model_3.predict(x_valid)\n",
    "print('F1:',f1_score(y_valid, predicted_valid))\n",
    "print('Accuracy:',accuracy_score(y_valid, predicted_valid))"
   ]
  },
  {
   "cell_type": "markdown",
   "metadata": {},
   "source": [
    "**We managed to improve F1 score up to the target.**"
   ]
  },
  {
   "cell_type": "markdown",
   "metadata": {},
   "source": [
    "### ROC curve"
   ]
  },
  {
   "cell_type": "code",
   "execution_count": 47,
   "metadata": {},
   "outputs": [
    {
     "data": {
      "image/png": "[encoded data removed]",
      "text/plain": [
       "<Figure size 432x288 with 1 Axes>"
      ]
     },
     "metadata": {
      "needs_background": "light"
     },
     "output_type": "display_data"
    }
   ],
   "source": [
    "probabilities_valid = model_3.predict_proba(x_valid)\n",
    "probabilities_one_valid = probabilities_valid[:, 1]\n",
    "\n",
    "fpr, tpr, thresholds = roc_curve(y_valid, probabilities_one_valid) \n",
    "# < write code here >\n",
    "\n",
    "plt.figure()\n",
    "\n",
    "# < plot the graph >\n",
    "plt.plot(fpr, tpr)\n",
    "\n",
    "# ROC curve for random model (looks like a straight line)\n",
    "plt.plot([0, 1], [0, 1], linestyle='--')\n",
    "\n",
    "# < use the functions plt.xlim() and plt.ylim() to\n",
    "#   set the boundary for the axes from 0 to 1 >\n",
    "plt.xlim([0.0, 1.0])\n",
    "plt.ylim([0.0, 1.0])\n",
    "# < use the functions plt.xlabel() and plt.ylabel() to\n",
    "#   name the axes \"False Positive Rate\" and \"True Positive Rate\" >\n",
    "plt.xlabel('False Positive Rate')\n",
    "plt.ylabel('True Positive Rate')\n",
    "plt.title('ROC curve')\n",
    "# < add the heading \"ROC curve\" with the function plt.title() >\n",
    "\n",
    "plt.show()"
   ]
  },
  {
   "cell_type": "code",
   "execution_count": 48,
   "metadata": {
    "scrolled": true
   },
   "outputs": [
    {
     "name": "stdout",
     "output_type": "stream",
     "text": [
      "0.844397778078851\n"
     ]
    }
   ],
   "source": [
    "auc_roc=roc_auc_score(y_valid, probabilities_one_valid)\n",
    "print(auc_roc)"
   ]
  },
  {
   "cell_type": "markdown",
   "metadata": {},
   "source": [
    "## Final testing"
   ]
  },
  {
   "cell_type": "code",
   "execution_count": 49,
   "metadata": {},
   "outputs": [
    {
     "name": "stdout",
     "output_type": "stream",
     "text": [
      "F1: 0.5945330296127562\n",
      "Accuracy: 0.8042880703683343\n"
     ]
    }
   ],
   "source": [
    "features_resampled, target_resampled = resample(x_train2, y_train2,3,0.7000000000000001)\n",
    "model_3=RandomForestClassifier(random_state=12345,n_estimators=29,max_depth=11,class_weight='balanced')\n",
    "model_3.fit(features_resampled, target_resampled)\n",
    "predicted_valid=model_3.predict(x_test)\n",
    "print('F1:',f1_score(y_test, predicted_valid))\n",
    "print('Accuracy:',accuracy_score(y_test, predicted_valid))"
   ]
  },
  {
   "cell_type": "code",
   "execution_count": 50,
   "metadata": {},
   "outputs": [
    {
     "data": {
      "image/png": "[encoded data removed]",
      "text/plain": [
       "<Figure size 432x288 with 1 Axes>"
      ]
     },
     "metadata": {
      "needs_background": "light"
     },
     "output_type": "display_data"
    }
   ],
   "source": [
    "probabilities_valid = model_3.predict_proba(x_test)\n",
    "probabilities_one_valid = probabilities_valid[:, 1]\n",
    "\n",
    "fpr, tpr, thresholds = roc_curve(y_test, probabilities_one_valid) \n",
    "# < write code here >\n",
    "\n",
    "plt.figure()\n",
    "\n",
    "# < plot the graph >\n",
    "plt.plot(fpr, tpr)\n",
    "\n",
    "# ROC curve for random model (looks like a straight line)\n",
    "plt.plot([0, 1], [0, 1], linestyle='--')\n",
    "\n",
    "# < use the functions plt.xlim() and plt.ylim() to\n",
    "#   set the boundary for the axes from 0 to 1 >\n",
    "plt.xlim([0.0, 1.0])\n",
    "plt.ylim([0.0, 1.0])\n",
    "# < use the functions plt.xlabel() and plt.ylabel() to\n",
    "#   name the axes \"False Positive Rate\" and \"True Positive Rate\" >\n",
    "plt.xlabel('False Positive Rate')\n",
    "plt.ylabel('True Positive Rate')\n",
    "plt.title('ROC curve')\n",
    "# < add the heading \"ROC curve\" with the function plt.title() >\n",
    "\n",
    "plt.show()"
   ]
  },
  {
   "cell_type": "code",
   "execution_count": 51,
   "metadata": {},
   "outputs": [
    {
     "name": "stdout",
     "output_type": "stream",
     "text": [
      "0.8555948042239043\n"
     ]
    }
   ],
   "source": [
    "auc_roc=roc_auc_score(y_test, probabilities_one_valid)\n",
    "print(auc_roc)"
   ]
  },
  {
   "cell_type": "markdown",
   "metadata": {},
   "source": [
    "The area under the ROC curve increased, our model got better at prediction the target."
   ]
  }
 ],
 "metadata": {
  "ExecuteTimeLog": [
   {
    "duration": 975,
    "start_time": "2022-03-14T13:15:39.016Z"
   },
   {
    "duration": 40,
    "start_time": "2022-03-14T13:16:14.416Z"
   },
   {
    "duration": 30,
    "start_time": "2022-03-14T13:16:35.975Z"
   },
   {
    "duration": 57,
    "start_time": "2022-03-14T13:26:44.572Z"
   },
   {
    "duration": 15,
    "start_time": "2022-03-14T13:27:02.884Z"
   },
   {
    "duration": 290,
    "start_time": "2022-03-14T13:28:24.716Z"
   },
   {
    "duration": 4,
    "start_time": "2022-03-14T13:29:08.898Z"
   },
   {
    "duration": 5,
    "start_time": "2022-03-14T13:29:20.730Z"
   },
   {
    "duration": 5,
    "start_time": "2022-03-14T13:29:24.026Z"
   },
   {
    "duration": 169,
    "start_time": "2022-03-14T13:34:33.970Z"
   },
   {
    "duration": 5,
    "start_time": "2022-03-14T13:37:02.586Z"
   },
   {
    "duration": 213,
    "start_time": "2022-03-14T13:37:56.225Z"
   },
   {
    "duration": 16,
    "start_time": "2022-03-14T13:38:03.606Z"
   },
   {
    "duration": 85,
    "start_time": "2022-03-14T13:39:59.838Z"
   },
   {
    "duration": 16,
    "start_time": "2022-03-14T13:40:05.853Z"
   },
   {
    "duration": 224,
    "start_time": "2022-03-14T13:44:18.448Z"
   },
   {
    "duration": 23,
    "start_time": "2022-03-14T13:44:34.711Z"
   },
   {
    "duration": 184,
    "start_time": "2022-03-14T13:45:53.949Z"
   },
   {
    "duration": 215,
    "start_time": "2022-03-14T13:46:31.028Z"
   },
   {
    "duration": 26,
    "start_time": "2022-03-14T13:46:39.222Z"
   },
   {
    "duration": 15,
    "start_time": "2022-03-14T13:46:40.847Z"
   },
   {
    "duration": 5,
    "start_time": "2022-03-14T13:46:44.118Z"
   },
   {
    "duration": 5,
    "start_time": "2022-03-14T13:46:44.990Z"
   },
   {
    "duration": 26,
    "start_time": "2022-03-14T13:46:53.719Z"
   },
   {
    "duration": 17,
    "start_time": "2022-03-14T13:46:59.318Z"
   },
   {
    "duration": 5,
    "start_time": "2022-03-14T13:57:52.857Z"
   },
   {
    "duration": 36,
    "start_time": "2022-03-14T13:57:54.621Z"
   },
   {
    "duration": 12,
    "start_time": "2022-03-14T13:57:56.835Z"
   },
   {
    "duration": 16,
    "start_time": "2022-03-14T13:57:58.960Z"
   },
   {
    "duration": 5,
    "start_time": "2022-03-14T13:58:00.370Z"
   },
   {
    "duration": 5,
    "start_time": "2022-03-14T13:58:01.219Z"
   },
   {
    "duration": 25,
    "start_time": "2022-03-14T13:58:02.476Z"
   },
   {
    "duration": 16,
    "start_time": "2022-03-14T13:58:07.282Z"
   },
   {
    "duration": 5,
    "start_time": "2022-03-14T14:13:28.860Z"
   },
   {
    "duration": 30,
    "start_time": "2022-03-14T14:13:28.867Z"
   },
   {
    "duration": 11,
    "start_time": "2022-03-14T14:13:28.899Z"
   },
   {
    "duration": 15,
    "start_time": "2022-03-14T14:13:28.912Z"
   },
   {
    "duration": 5,
    "start_time": "2022-03-14T14:13:28.929Z"
   },
   {
    "duration": 5113,
    "start_time": "2022-03-14T14:13:33.896Z"
   },
   {
    "duration": 4,
    "start_time": "2022-03-14T14:13:50.387Z"
   },
   {
    "duration": 9,
    "start_time": "2022-03-14T14:14:36.474Z"
   },
   {
    "duration": 198,
    "start_time": "2022-03-14T14:15:10.129Z"
   },
   {
    "duration": 194,
    "start_time": "2022-03-14T14:15:14.961Z"
   },
   {
    "duration": 13,
    "start_time": "2022-03-14T14:15:25.217Z"
   },
   {
    "duration": 4,
    "start_time": "2022-03-14T14:15:53.201Z"
   },
   {
    "duration": 30,
    "start_time": "2022-03-14T14:15:53.207Z"
   },
   {
    "duration": 12,
    "start_time": "2022-03-14T14:15:53.238Z"
   },
   {
    "duration": 15,
    "start_time": "2022-03-14T14:15:53.251Z"
   },
   {
    "duration": 8,
    "start_time": "2022-03-14T14:15:53.268Z"
   },
   {
    "duration": 5,
    "start_time": "2022-03-14T14:15:53.308Z"
   },
   {
    "duration": 5,
    "start_time": "2022-03-14T14:15:53.315Z"
   },
   {
    "duration": 212,
    "start_time": "2022-03-14T14:16:00.168Z"
   },
   {
    "duration": 4,
    "start_time": "2022-03-14T14:16:11.241Z"
   },
   {
    "duration": 28,
    "start_time": "2022-03-14T14:16:11.247Z"
   },
   {
    "duration": 12,
    "start_time": "2022-03-14T14:16:11.277Z"
   },
   {
    "duration": 15,
    "start_time": "2022-03-14T14:16:11.291Z"
   },
   {
    "duration": 7,
    "start_time": "2022-03-14T14:16:11.307Z"
   },
   {
    "duration": 5,
    "start_time": "2022-03-14T14:16:11.351Z"
   },
   {
    "duration": 4,
    "start_time": "2022-03-14T14:16:14.960Z"
   },
   {
    "duration": 4,
    "start_time": "2022-03-14T14:16:15.720Z"
   },
   {
    "duration": 17,
    "start_time": "2022-03-14T14:16:17.304Z"
   },
   {
    "duration": 4,
    "start_time": "2022-03-14T14:18:47.965Z"
   },
   {
    "duration": 4,
    "start_time": "2022-03-14T14:26:06.691Z"
   },
   {
    "duration": 31,
    "start_time": "2022-03-14T14:26:08.526Z"
   },
   {
    "duration": 11,
    "start_time": "2022-03-14T14:26:10.397Z"
   },
   {
    "duration": 14,
    "start_time": "2022-03-14T14:26:11.670Z"
   },
   {
    "duration": 5,
    "start_time": "2022-03-14T14:26:17.678Z"
   },
   {
    "duration": 5,
    "start_time": "2022-03-14T14:28:49.339Z"
   },
   {
    "duration": 196,
    "start_time": "2022-03-14T14:28:53.564Z"
   },
   {
    "duration": 205,
    "start_time": "2022-03-14T14:29:51.946Z"
   },
   {
    "duration": 4,
    "start_time": "2022-03-14T14:29:59.402Z"
   },
   {
    "duration": 186,
    "start_time": "2022-03-14T14:30:00.666Z"
   },
   {
    "duration": 243,
    "start_time": "2022-03-14T14:31:19.137Z"
   },
   {
    "duration": 4,
    "start_time": "2022-03-14T14:31:29.585Z"
   },
   {
    "duration": 26,
    "start_time": "2022-03-14T14:31:57.000Z"
   },
   {
    "duration": 12,
    "start_time": "2022-03-14T14:32:01.432Z"
   },
   {
    "duration": 11,
    "start_time": "2022-03-14T14:32:11.648Z"
   },
   {
    "duration": 27,
    "start_time": "2022-03-14T14:32:15.664Z"
   },
   {
    "duration": 13,
    "start_time": "2022-03-14T14:32:19.311Z"
   },
   {
    "duration": 16,
    "start_time": "2022-03-14T14:32:23.006Z"
   },
   {
    "duration": 5,
    "start_time": "2022-03-14T14:32:37.223Z"
   },
   {
    "duration": 4,
    "start_time": "2022-03-14T14:32:43.098Z"
   },
   {
    "duration": 5,
    "start_time": "2022-03-14T14:32:48.295Z"
   },
   {
    "duration": 13,
    "start_time": "2022-03-14T14:32:56.303Z"
   },
   {
    "duration": 39,
    "start_time": "2022-03-14T14:37:28.851Z"
   },
   {
    "duration": 14,
    "start_time": "2022-03-14T14:38:06.219Z"
   },
   {
    "duration": 323,
    "start_time": "2022-03-15T13:54:17.624Z"
   },
   {
    "duration": 1116,
    "start_time": "2022-03-15T13:54:55.273Z"
   },
   {
    "duration": 42,
    "start_time": "2022-03-15T13:54:56.391Z"
   },
   {
    "duration": 10,
    "start_time": "2022-03-15T13:54:56.435Z"
   },
   {
    "duration": 19,
    "start_time": "2022-03-15T13:54:56.446Z"
   },
   {
    "duration": 4,
    "start_time": "2022-03-15T13:54:56.466Z"
   },
   {
    "duration": 13,
    "start_time": "2022-03-15T13:54:56.472Z"
   },
   {
    "duration": 9,
    "start_time": "2022-03-15T13:54:56.487Z"
   },
   {
    "duration": 22,
    "start_time": "2022-03-15T13:54:56.499Z"
   },
   {
    "duration": 35,
    "start_time": "2022-03-15T13:54:56.523Z"
   },
   {
    "duration": 11,
    "start_time": "2022-03-15T13:54:56.559Z"
   },
   {
    "duration": 3750,
    "start_time": "2022-03-15T13:54:56.571Z"
   },
   {
    "duration": 338,
    "start_time": "2022-03-15T13:55:00.322Z"
   },
   {
    "duration": -247,
    "start_time": "2022-03-15T13:55:00.908Z"
   },
   {
    "duration": 4,
    "start_time": "2022-03-15T13:55:29.312Z"
   },
   {
    "duration": 4,
    "start_time": "2022-03-15T13:56:38.550Z"
   },
   {
    "duration": 187057,
    "start_time": "2022-03-15T13:57:16.334Z"
   },
   {
    "duration": 4,
    "start_time": "2022-03-15T14:00:25.771Z"
   },
   {
    "duration": 4,
    "start_time": "2022-03-15T14:02:22.891Z"
   },
   {
    "duration": 153,
    "start_time": "2022-03-15T14:03:48.928Z"
   },
   {
    "duration": 5,
    "start_time": "2022-03-15T14:03:50.200Z"
   },
   {
    "duration": 314,
    "start_time": "2022-03-15T14:34:02.476Z"
   },
   {
    "duration": 271,
    "start_time": "2022-03-15T14:34:07.457Z"
   },
   {
    "duration": 5,
    "start_time": "2022-03-15T14:34:20.269Z"
   },
   {
    "duration": 5,
    "start_time": "2022-03-15T14:34:24.516Z"
   },
   {
    "duration": 5,
    "start_time": "2022-03-15T14:36:00.427Z"
   },
   {
    "duration": 4,
    "start_time": "2022-03-15T14:38:18.902Z"
   },
   {
    "duration": 329,
    "start_time": "2022-03-15T14:38:46.377Z"
   },
   {
    "duration": 6,
    "start_time": "2022-03-15T14:38:51.841Z"
   },
   {
    "duration": 4,
    "start_time": "2022-03-15T14:45:47.242Z"
   },
   {
    "duration": 302,
    "start_time": "2022-03-15T14:45:51.386Z"
   },
   {
    "duration": 5,
    "start_time": "2022-03-15T14:45:56.994Z"
   },
   {
    "duration": 154,
    "start_time": "2022-03-15T15:01:37.777Z"
   },
   {
    "duration": 500,
    "start_time": "2022-03-15T15:19:59.769Z"
   },
   {
    "duration": 4,
    "start_time": "2022-03-15T15:20:16.643Z"
   },
   {
    "duration": 660,
    "start_time": "2022-03-15T15:20:22.043Z"
   },
   {
    "duration": 302,
    "start_time": "2022-03-15T15:21:43.426Z"
   },
   {
    "duration": 306,
    "start_time": "2022-03-15T15:21:54.977Z"
   },
   {
    "duration": 188,
    "start_time": "2022-03-15T15:29:16.776Z"
   },
   {
    "duration": 201,
    "start_time": "2022-03-15T15:29:33.386Z"
   },
   {
    "duration": 235,
    "start_time": "2022-03-15T15:29:41.258Z"
   },
   {
    "duration": 304,
    "start_time": "2022-03-15T15:29:45.579Z"
   },
   {
    "duration": 283,
    "start_time": "2022-03-15T15:29:49.314Z"
   },
   {
    "duration": 271,
    "start_time": "2022-03-15T15:29:53.466Z"
   },
   {
    "duration": 277,
    "start_time": "2022-03-15T15:29:56.826Z"
   },
   {
    "duration": 279,
    "start_time": "2022-03-15T15:30:00.003Z"
   },
   {
    "duration": 308,
    "start_time": "2022-03-15T15:30:03.898Z"
   },
   {
    "duration": 1371,
    "start_time": "2022-03-15T15:30:07.418Z"
   },
   {
    "duration": 399,
    "start_time": "2022-03-15T15:30:14.779Z"
   },
   {
    "duration": 314,
    "start_time": "2022-03-15T15:30:20.234Z"
   },
   {
    "duration": 353,
    "start_time": "2022-03-15T15:30:24.362Z"
   },
   {
    "duration": 345,
    "start_time": "2022-03-15T15:30:27.889Z"
   },
   {
    "duration": 325,
    "start_time": "2022-03-15T15:30:30.786Z"
   },
   {
    "duration": 302,
    "start_time": "2022-03-15T15:30:34.809Z"
   },
   {
    "duration": 1828,
    "start_time": "2022-03-15T15:35:17.281Z"
   },
   {
    "duration": 334,
    "start_time": "2022-03-15T15:35:49.613Z"
   },
   {
    "duration": 2106,
    "start_time": "2022-03-15T15:37:47.523Z"
   },
   {
    "duration": 3,
    "start_time": "2022-03-15T15:38:04.443Z"
   },
   {
    "duration": 315,
    "start_time": "2022-03-15T15:39:06.282Z"
   },
   {
    "duration": 312,
    "start_time": "2022-03-15T15:39:11.257Z"
   },
   {
    "duration": 318,
    "start_time": "2022-03-15T15:39:14.337Z"
   },
   {
    "duration": 2211,
    "start_time": "2022-03-15T15:39:33.314Z"
   },
   {
    "duration": 4,
    "start_time": "2022-03-15T15:39:35.526Z"
   },
   {
    "duration": 2,
    "start_time": "2022-03-15T15:39:37.817Z"
   },
   {
    "duration": 3,
    "start_time": "2022-03-15T15:39:53.377Z"
   },
   {
    "duration": 2196,
    "start_time": "2022-03-15T15:44:11.605Z"
   },
   {
    "duration": 388,
    "start_time": "2022-03-15T15:47:04.690Z"
   },
   {
    "duration": 2212,
    "start_time": "2022-03-15T15:47:23.297Z"
   },
   {
    "duration": 3,
    "start_time": "2022-03-15T15:48:03.809Z"
   },
   {
    "duration": 3,
    "start_time": "2022-03-15T15:48:09.793Z"
   },
   {
    "duration": 112,
    "start_time": "2022-03-15T15:48:15.840Z"
   },
   {
    "duration": 4,
    "start_time": "2022-03-15T15:48:56.696Z"
   },
   {
    "duration": 3,
    "start_time": "2022-03-15T15:51:19.574Z"
   },
   {
    "duration": 5,
    "start_time": "2022-03-15T15:51:59.493Z"
   },
   {
    "duration": 4,
    "start_time": "2022-03-15T15:52:14.437Z"
   },
   {
    "duration": 777,
    "start_time": "2022-03-15T15:52:23.733Z"
   },
   {
    "duration": 4,
    "start_time": "2022-03-15T15:52:29.917Z"
   },
   {
    "duration": 29931,
    "start_time": "2022-03-15T15:52:41.580Z"
   },
   {
    "duration": 26731,
    "start_time": "2022-03-15T15:53:37.644Z"
   },
   {
    "duration": 3,
    "start_time": "2022-03-15T15:54:06.411Z"
   },
   {
    "duration": 3,
    "start_time": "2022-03-15T15:54:08.523Z"
   },
   {
    "duration": 176,
    "start_time": "2022-03-15T15:58:46.919Z"
   },
   {
    "duration": 181,
    "start_time": "2022-03-15T15:59:03.863Z"
   },
   {
    "duration": 95,
    "start_time": "2022-03-15T15:59:54.599Z"
   },
   {
    "duration": 111,
    "start_time": "2022-03-15T16:00:15.374Z"
   },
   {
    "duration": 94,
    "start_time": "2022-03-15T16:00:25.534Z"
   },
   {
    "duration": 186,
    "start_time": "2022-03-15T16:00:34.590Z"
   },
   {
    "duration": 177,
    "start_time": "2022-03-15T16:00:58.926Z"
   },
   {
    "duration": 4,
    "start_time": "2022-03-15T16:15:57.423Z"
   },
   {
    "duration": 150,
    "start_time": "2022-03-15T16:16:25.311Z"
   },
   {
    "duration": 291,
    "start_time": "2022-03-15T16:17:19.310Z"
   },
   {
    "duration": 5,
    "start_time": "2022-03-15T16:18:01.381Z"
   },
   {
    "duration": 5,
    "start_time": "2022-03-15T16:18:04.829Z"
   },
   {
    "duration": 220,
    "start_time": "2022-03-15T16:21:35.978Z"
   },
   {
    "duration": 214,
    "start_time": "2022-03-15T16:22:35.138Z"
   },
   {
    "duration": 146,
    "start_time": "2022-03-15T16:22:54.386Z"
   },
   {
    "duration": 5,
    "start_time": "2022-03-15T16:23:05.777Z"
   },
   {
    "duration": 1150,
    "start_time": "2022-03-16T09:38:20.085Z"
   },
   {
    "duration": 35,
    "start_time": "2022-03-16T09:38:21.237Z"
   },
   {
    "duration": 11,
    "start_time": "2022-03-16T09:38:21.273Z"
   },
   {
    "duration": 18,
    "start_time": "2022-03-16T09:38:21.286Z"
   },
   {
    "duration": 6,
    "start_time": "2022-03-16T09:38:21.306Z"
   },
   {
    "duration": 5,
    "start_time": "2022-03-16T09:38:21.314Z"
   },
   {
    "duration": 5,
    "start_time": "2022-03-16T09:38:21.320Z"
   },
   {
    "duration": 48,
    "start_time": "2022-03-16T09:38:21.327Z"
   },
   {
    "duration": 356,
    "start_time": "2022-03-16T09:38:35.305Z"
   },
   {
    "duration": 250,
    "start_time": "2022-03-16T09:39:02.956Z"
   },
   {
    "duration": 9,
    "start_time": "2022-03-16T09:40:52.322Z"
   },
   {
    "duration": 17,
    "start_time": "2022-03-16T09:41:04.482Z"
   },
   {
    "duration": 14,
    "start_time": "2022-03-16T09:41:27.745Z"
   },
   {
    "duration": 10,
    "start_time": "2022-03-16T09:57:51.880Z"
   },
   {
    "duration": 6,
    "start_time": "2022-03-16T09:59:32.057Z"
   },
   {
    "duration": 217,
    "start_time": "2022-03-16T10:00:20.704Z"
   },
   {
    "duration": 78,
    "start_time": "2022-03-16T10:00:35.669Z"
   },
   {
    "duration": 219,
    "start_time": "2022-03-16T10:00:43.035Z"
   },
   {
    "duration": 243,
    "start_time": "2022-03-16T10:00:51.888Z"
   },
   {
    "duration": 8,
    "start_time": "2022-03-16T10:01:21.159Z"
   },
   {
    "duration": 229,
    "start_time": "2022-03-16T10:16:06.182Z"
   },
   {
    "duration": 4,
    "start_time": "2022-03-16T10:16:22.884Z"
   },
   {
    "duration": 33,
    "start_time": "2022-03-16T10:16:22.890Z"
   },
   {
    "duration": 10,
    "start_time": "2022-03-16T10:16:22.925Z"
   },
   {
    "duration": 14,
    "start_time": "2022-03-16T10:16:22.937Z"
   },
   {
    "duration": 6,
    "start_time": "2022-03-16T10:16:22.952Z"
   },
   {
    "duration": 5,
    "start_time": "2022-03-16T10:16:22.959Z"
   },
   {
    "duration": 4,
    "start_time": "2022-03-16T10:16:22.966Z"
   },
   {
    "duration": 13,
    "start_time": "2022-03-16T10:16:22.972Z"
   },
   {
    "duration": 16,
    "start_time": "2022-03-16T10:16:22.987Z"
   },
   {
    "duration": 15,
    "start_time": "2022-03-16T10:16:23.005Z"
   },
   {
    "duration": 206324,
    "start_time": "2022-03-16T10:16:23.022Z"
   },
   {
    "duration": 4,
    "start_time": "2022-03-16T10:19:49.348Z"
   },
   {
    "duration": 166,
    "start_time": "2022-03-16T10:19:49.362Z"
   },
   {
    "duration": 6,
    "start_time": "2022-03-16T10:19:49.530Z"
   },
   {
    "duration": 7,
    "start_time": "2022-03-16T10:19:49.538Z"
   },
   {
    "duration": 5,
    "start_time": "2022-03-16T10:19:49.563Z"
   },
   {
    "duration": 9,
    "start_time": "2022-03-16T10:19:49.570Z"
   },
   {
    "duration": 167,
    "start_time": "2022-03-16T10:19:59.622Z"
   },
   {
    "duration": 246,
    "start_time": "2022-03-16T10:20:21.654Z"
   },
   {
    "duration": 5,
    "start_time": "2022-03-16T10:20:34.613Z"
   },
   {
    "duration": 4,
    "start_time": "2022-03-16T11:15:01.299Z"
   },
   {
    "duration": 28861,
    "start_time": "2022-03-16T11:15:03.395Z"
   },
   {
    "duration": 4,
    "start_time": "2022-03-16T11:15:33.450Z"
   },
   {
    "duration": 4,
    "start_time": "2022-03-16T11:15:43.434Z"
   },
   {
    "duration": 164,
    "start_time": "2022-03-16T11:15:53.338Z"
   },
   {
    "duration": 172,
    "start_time": "2022-03-16T11:16:00.652Z"
   },
   {
    "duration": 6,
    "start_time": "2022-03-16T11:16:02.306Z"
   },
   {
    "duration": 240,
    "start_time": "2022-03-16T11:16:23.633Z"
   },
   {
    "duration": 226,
    "start_time": "2022-03-16T11:16:29.170Z"
   },
   {
    "duration": 6,
    "start_time": "2022-03-16T11:16:31.377Z"
   }
  ],
  "kernelspec": {
   "display_name": "Python 3 (ipykernel)",
   "language": "python",
   "name": "python3"
  },
  "language_info": {
   "codemirror_mode": {
    "name": "ipython",
    "version": 3
   },
   "file_extension": ".py",
   "mimetype": "text/x-python",
   "name": "python",
   "nbconvert_exporter": "python",
   "pygments_lexer": "ipython3",
   "version": "3.9.12"
  },
  "toc": {
   "base_numbering": 1,
   "nav_menu": {},
   "number_sections": true,
   "sideBar": true,
   "skip_h1_title": true,
   "title_cell": "Table of Contents",
   "title_sidebar": "Contents",
   "toc_cell": false,
   "toc_position": {},
   "toc_section_display": true,
   "toc_window_display": false
  }
 },
 "nbformat": 4,
 "nbformat_minor": 2
}
